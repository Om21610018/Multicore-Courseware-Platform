{
 "cells": [
  {
   "cell_type": "code",
   "execution_count": null,
   "id": "0cbbf23f",
   "metadata": {},
   "outputs": [],
   "source": [
    "!pip install numpy\n",
    "!pip install matplotlib"
   ]
  },
  {
   "cell_type": "code",
   "execution_count": null,
   "id": "054e4cac",
   "metadata": {},
   "outputs": [],
   "source": [
    "%%writefile matadd.cpp\n",
    "#include <iostream>\n",
    "#include <omp.h>\n",
    "\n",
    "void matrix_addition(int** A, int** B, int** C, int rows, int cols) {\n",
    "    #pragma omp parallel for collapse(2)\n",
    "    for (int i = 0; i < rows; ++i) {\n",
    "        for (int j = 0; j < cols; ++j) {\n",
    "            C[i][j] = A[i][j] + B[i][j];\n",
    "        }\n",
    "    }\n",
    "}\n",
    "\n",
    "int main() {\n",
    "    const int rows = 3;\n",
    "    const int cols = 3;\n",
    "\n",
    "    // Allocate memory for matrices\n",
    "    int** A = new int*[rows];\n",
    "    int** B = new int*[rows];\n",
    "    int** C = new int*[rows];\n",
    "\n",
    "    for (int i = 0; i < rows; ++i) {\n",
    "        A[i] = new int[cols];\n",
    "        B[i] = new int[cols];\n",
    "        C[i] = new int[cols];\n",
    "    }\n",
    "\n",
    "    // Initialize matrices A and B\n",
    "    for (int i = 0; i < rows; ++i) {\n",
    "        for (int j = 0; j < cols; ++j) {\n",
    "            A[i][j] = i + j;\n",
    "            B[i][j] = i - j;\n",
    "        }\n",
    "    }\n",
    "\n",
    "    // Perform matrix addition\n",
    "    matrix_addition(A, B, C, rows, cols);\n",
    "\n",
    "    // Print the result matrix\n",
    "    std::cout << \"Resultant Matrix:\\n\";\n",
    "    for (int i = 0; i < rows; ++i) {\n",
    "        for (int j = 0; j < cols; ++j) {\n",
    "            std::cout << C[i][j] << \" \";\n",
    "        }\n",
    "        std::cout << std::endl;\n",
    "    }\n",
    "\n",
    "    // Free memory\n",
    "    for (int i = 0; i < rows; ++i) {\n",
    "        delete[] A[i];\n",
    "        delete[] B[i];\n",
    "        delete[] C[i];\n",
    "    }\n",
    "    delete[] A;\n",
    "    delete[] B;\n",
    "    delete[] C;\n",
    "\n",
    "    return 0;\n",
    "}\n"
   ]
  },
  {
   "cell_type": "code",
   "execution_count": null,
   "id": "688007f7",
   "metadata": {},
   "outputs": [],
   "source": [
    "!g++ -fopenmp -o matadd matadd.cpp"
   ]
  },
  {
   "cell_type": "code",
   "execution_count": null,
   "id": "ec5d91cb",
   "metadata": {},
   "outputs": [],
   "source": [
    "!./matadd"
   ]
  }
 ],
 "metadata": {},
 "nbformat": 4,
 "nbformat_minor": 5
}
