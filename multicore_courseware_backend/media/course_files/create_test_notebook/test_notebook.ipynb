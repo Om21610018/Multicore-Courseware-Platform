{
 "cells": [
  {
   "cell_type": "code",
   "execution_count": null,
   "id": "c585553c",
   "metadata": {},
   "outputs": [],
   "source": [
    "def add_function():\n",
    "    # Prompt the user to enter the first number\n",
    "    num1 = 4\n",
    "\n",
    "    # set correct value of x\n",
    "    \n",
    "    # Prompt the user to enter the second number\n",
    "    num2 = x\n",
    "\n",
    "    # Add the two numbers\n",
    "    return  num1 + num2"
   ]
  },
  {
   "cell_type": "code",
   "execution_count": null,
   "id": "bf2051a3",
   "metadata": {},
   "outputs": [],
   "source": [
    "x = 87\n",
    "print(f\"{x}\")\n",
    "print(f\"{x}\")"
   ]
  }
 ],
 "metadata": {},
 "nbformat": 4,
 "nbformat_minor": 5
}
