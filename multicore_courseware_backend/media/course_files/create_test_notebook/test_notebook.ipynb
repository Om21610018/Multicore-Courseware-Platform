{
 "cells": [
  {
   "cell_type": "code",
   "execution_count": null,
   "id": "3ab9010e",
   "metadata": {},
   "outputs": [],
   "source": [
    "def add_function():\n",
    "    # Prompt the user to enter the first number\n",
    "    num1 = 4\n",
    "\n",
    "    # set correct value of x\n",
    "    \n",
    "    x = 4\n",
    "    # Prompt the user to enter the second number\n",
    "    num2 = x\n",
    "\n",
    "    # Add the two numbers\n",
    "    return  num1 + num2"
   ]
  },
  {
   "cell_type": "code",
   "execution_count": null,
   "id": "428ad864",
   "metadata": {},
   "outputs": [],
   "source": [
    "# add_function()\n",
    "x = 87\n",
    "print(f\"{x}\")\n",
    "print(f\"{x}\")"
   ]
  }
 ],
 "metadata": {},
 "nbformat": 4,
 "nbformat_minor": 5
}
