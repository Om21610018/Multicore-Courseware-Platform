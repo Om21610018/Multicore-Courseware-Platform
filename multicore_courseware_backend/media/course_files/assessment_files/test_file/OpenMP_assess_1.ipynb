{
 "cells": [
  {
   "cell_type": "code",
   "execution_count": 4,
   "id": "7341745f-dce6-4bd0-ae3e-8534494ef09e",
   "metadata": {},
   "outputs": [],
   "source": [
    "def add_function():\n",
    "    # Prompt the user to enter the first number\n",
    "    num1 = 4\n",
    "\n",
    "    # set correct value of x\n",
    "    \n",
    "    x = 4\n",
    "    # Prompt the user to enter the second number\n",
    "    num2 = x\n",
    "\n",
    "    # Add the two numbers\n",
    "    return  num1 + num2"
   ]
  },
  {
   "cell_type": "code",
   "execution_count": 5,
   "id": "76ae5350-5f43-455b-baf8-6d7f1d1f078f",
   "metadata": {},
   "outputs": [
    {
     "data": {
      "text/plain": [
       "8"
      ]
     },
     "execution_count": 5,
     "metadata": {},
     "output_type": "execute_result"
    }
   ],
   "source": [
    "# add_function()\n",
    "x = 87\n",
    "print(f\"{x}\")\n",
    "print(f\"{x}\")"
   ]
  }
 ],
 "metadata": {
  "kernelspec": {
   "display_name": "Python 3 (ipykernel)",
   "language": "python",
   "name": "python3"
  },
  "language_info": {
   "codemirror_mode": {
    "name": "ipython",
    "version": 3
   },
   "file_extension": ".py",
   "mimetype": "text/x-python",
   "name": "python",
   "nbconvert_exporter": "python",
   "pygments_lexer": "ipython3",
   "version": "3.10.10"
  }
 },
 "nbformat": 4,
 "nbformat_minor": 5
}
