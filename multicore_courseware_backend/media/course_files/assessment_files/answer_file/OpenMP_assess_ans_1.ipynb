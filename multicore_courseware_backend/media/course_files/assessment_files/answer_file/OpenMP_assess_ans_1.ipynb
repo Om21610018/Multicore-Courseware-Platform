{
 "cells": [
  {
   "cell_type": "code",
   "execution_count": 1,
   "id": "7341745f-dce6-4bd0-ae3e-8534494ef09e",
   "metadata": {
    "nbgrader": {
     "grade": true,
     "grade_id": "cell-9809ee3bead6a7f6",
     "locked": true,
     "points": 1,
     "schema_version": 3,
     "solution": false,
     "task": false
    }
   },
   "outputs": [],
   "source": [
    "def add_function():\n",
    "    # Prompt the user to enter the first number\n",
    "    num1 = 4\n",
    "\n",
    "    # Prompt the user to enter the second number\n",
    "    num2 = 4\n",
    "\n",
    "    # Add the two numbers\n",
    "    return  num1 + num2"
   ]
  },
  {
   "cell_type": "code",
   "execution_count": 2,
   "id": "76ae5350-5f43-455b-baf8-6d7f1d1f078f",
   "metadata": {},
   "outputs": [
    {
     "name": "stdout",
     "output_type": "stream",
     "text": [
      "87\n",
      "87\n"
     ]
    }
   ],
   "source": [
    "# add_function()\n",
    "x = 87\n",
    "print(f\"{x}\")\n",
    "print(f\"{x}\")"
   ]
  }
 ],
 "metadata": {
  "kernelspec": {
   "display_name": "Python 3 (ipykernel)",
   "language": "python",
   "name": "python3"
  },
  "language_info": {
   "codemirror_mode": {
    "name": "ipython",
    "version": 3
   },
   "file_extension": ".py",
   "mimetype": "text/x-python",
   "name": "python",
   "nbconvert_exporter": "python",
   "pygments_lexer": "ipython3",
   "version": "3.12.1"
  }
 },
 "nbformat": 4,
 "nbformat_minor": 5
}
