{
 "cells": [
  {
   "cell_type": "code",
   "execution_count": 1,
   "metadata": {
    "id": "00G30xaclWcE"
   },
   "outputs": [
    {
     "name": "stdout",
     "output_type": "stream",
     "text": [
      "Defaulting to user installation because normal site-packages is not writeable\n",
      "Requirement already satisfied: numpy in ./.local/lib/python3.10/site-packages (1.26.4)\n",
      "Defaulting to user installation because normal site-packages is not writeable\n",
      "Requirement already satisfied: matplotlib in ./.local/lib/python3.10/site-packages (3.8.4)\n",
      "Requirement already satisfied: contourpy>=1.0.1 in ./.local/lib/python3.10/site-packages (from matplotlib) (1.2.1)\n",
      "Requirement already satisfied: cycler>=0.10 in ./.local/lib/python3.10/site-packages (from matplotlib) (0.12.1)\n",
      "Requirement already satisfied: fonttools>=4.22.0 in ./.local/lib/python3.10/site-packages (from matplotlib) (4.50.0)\n",
      "Requirement already satisfied: kiwisolver>=1.3.1 in ./.local/lib/python3.10/site-packages (from matplotlib) (1.4.5)\n",
      "Requirement already satisfied: numpy>=1.21 in ./.local/lib/python3.10/site-packages (from matplotlib) (1.26.4)\n",
      "Requirement already satisfied: packaging>=20.0 in /opt/tljh/user/lib/python3.10/site-packages (from matplotlib) (24.0)\n",
      "Requirement already satisfied: pillow>=8 in ./.local/lib/python3.10/site-packages (from matplotlib) (10.3.0)\n",
      "Requirement already satisfied: pyparsing>=2.3.1 in ./.local/lib/python3.10/site-packages (from matplotlib) (3.1.2)\n",
      "Requirement already satisfied: python-dateutil>=2.7 in /opt/tljh/user/lib/python3.10/site-packages (from matplotlib) (2.9.0.post0)\n",
      "Requirement already satisfied: six>=1.5 in /opt/tljh/user/lib/python3.10/site-packages (from python-dateutil>=2.7->matplotlib) (1.16.0)\n"
     ]
    }
   ],
   "source": [
    "!pip install numpy\n",
    "!pip install matplotlib"
   ]
  },
  {
   "cell_type": "code",
   "execution_count": 2,
   "metadata": {
    "colab": {
     "base_uri": "https://localhost:8080/"
    },
    "id": "0vTZyTf_lktE",
    "outputId": "06cec926-3fcb-4afb-e4b1-664f6cec760f"
   },
   "outputs": [
    {
     "name": "stdout",
     "output_type": "stream",
     "text": [
      "Overwriting matadd.cpp\n"
     ]
    }
   ],
   "source": [
    "%%writefile matadd.cpp\n",
    "#include <iostream>\n",
    "#include <omp.h>\n",
    "\n",
    "void matrix_addition(int** A, int** B, int** C, int rows, int cols) {\n",
    "    #pragma omp parallel for collapse(2)\n",
    "    for (int i = 0; i < rows; ++i) {\n",
    "        for (int j = 0; j < cols; ++j) {\n",
    "            C[i][j] = A[i][j] + B[i][j];\n",
    "        }\n",
    "    }\n",
    "}\n",
    "\n",
    "int main() {\n",
    "    const int rows = 3;\n",
    "    const int cols = 3;\n",
    "\n",
    "    // Allocate memory for matrices\n",
    "    int** A = new int*[rows];\n",
    "    int** B = new int*[rows];\n",
    "    int** C = new int*[rows];\n",
    "\n",
    "    for (int i = 0; i < rows; ++i) {\n",
    "        A[i] = new int[cols];\n",
    "        B[i] = new int[cols];\n",
    "        C[i] = new int[cols];\n",
    "    }\n",
    "\n",
    "    // Initialize matrices A and B\n",
    "    for (int i = 0; i < rows; ++i) {\n",
    "        for (int j = 0; j < cols; ++j) {\n",
    "            A[i][j] = i + j;\n",
    "            B[i][j] = i - j;\n",
    "        }\n",
    "    }\n",
    "\n",
    "    // Perform matrix addition\n",
    "    matrix_addition(A, B, C, rows, cols);\n",
    "\n",
    "    // Print the result matrix\n",
    "    std::cout << \"Resultant Matrix:\\n\";\n",
    "    for (int i = 0; i < rows; ++i) {\n",
    "        for (int j = 0; j < cols; ++j) {\n",
    "            std::cout << C[i][j] << \" \";\n",
    "        }\n",
    "        std::cout << std::endl;\n",
    "    }\n",
    "\n",
    "    // Free memory\n",
    "    for (int i = 0; i < rows; ++i) {\n",
    "        delete[] A[i];\n",
    "        delete[] B[i];\n",
    "        delete[] C[i];\n",
    "    }\n",
    "    delete[] A;\n",
    "    delete[] B;\n",
    "    delete[] C;\n",
    "\n",
    "    return 0;\n",
    "}\n"
   ]
  },
  {
   "cell_type": "code",
   "execution_count": 3,
   "metadata": {
    "colab": {
     "base_uri": "https://localhost:8080/"
    },
    "id": "1JWigHflaUAy",
    "outputId": "59a44873-719f-476f-e16b-6df782131dad"
   },
   "outputs": [],
   "source": [
    "!g++ -fopenmp -o matadd matadd.cpp"
   ]
  },
  {
   "cell_type": "code",
   "execution_count": 4,
   "metadata": {},
   "outputs": [
    {
     "name": "stdout",
     "output_type": "stream",
     "text": [
      "Resultant Matrix:\n",
      "0 0 0 \n",
      "2 2 2 \n",
      "4 4 4 \n"
     ]
    }
   ],
   "source": [
    "!./matadd"
   ]
  }
 ],
 "metadata": {
  "colab": {
   "provenance": []
  },
  "kernelspec": {
   "display_name": "Python 3 (ipykernel)",
   "language": "python",
   "name": "python3"
  },
  "language_info": {
   "codemirror_mode": {
    "name": "ipython",
    "version": 3
   },
   "file_extension": ".py",
   "mimetype": "text/x-python",
   "name": "python",
   "nbconvert_exporter": "python",
   "pygments_lexer": "ipython3",
   "version": "3.10.10"
  }
 },
 "nbformat": 4,
 "nbformat_minor": 4
}
