{
 "cells": [
  {
   "cell_type": "code",
   "execution_count": null,
   "id": "a83304a7",
   "metadata": {},
   "outputs": [],
   "source": [
    "def add_function():\n",
    "    # Prompt the user to enter the first number\n",
    "    num1 = 4\n",
    "\n",
    "    # set correct value of x\n",
    "    \n",
    "    # Prompt the user to enter the second number\n",
    "    num2 = x\n",
    "\n",
    "    # Add the two numbers\n",
    "    return  num1 + num2"
   ]
  },
  {
   "cell_type": "code",
   "execution_count": null,
   "id": "e5b01320",
   "metadata": {},
   "outputs": [],
   "source": [
    "add_function()"
   ]
  }
 ],
 "metadata": {},
 "nbformat": 4,
 "nbformat_minor": 5
}
